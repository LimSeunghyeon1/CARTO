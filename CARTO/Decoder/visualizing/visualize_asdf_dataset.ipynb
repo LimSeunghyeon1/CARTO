{
    "cells": [
        {
            "cell_type": "code",
            "execution_count": null,
            "metadata": {},
            "outputs": [],
            "source": [
                "%load_ext autoreload\n",
                "%autoreload 2"
            ]
        },
        {
            "cell_type": "code",
            "execution_count": null,
            "metadata": {},
            "outputs": [],
            "source": [
                "from CARTO.Decoder.data import asdf_dataset\n",
                "import open3d as o3d\n",
                "import pathlib\n",
                "import random \n",
                "import numpy as np"
            ]
        },
        {
            "cell_type": "code",
            "execution_count": 3,
            "metadata": {},
            "outputs": [],
            "source": [
                "\n",
                "def get_colors(n): \n",
                "  ret = [] \n",
                "  r = int(random.random() * 256) \n",
                "  g = int(random.random() * 256) \n",
                "  b = int(random.random() * 256) \n",
                "  step = 256 / n \n",
                "  for i in range(n): \n",
                "    r += step \n",
                "    g += step \n",
                "    b += step \n",
                "    r = int(r) % 256 \n",
                "    g = int(g) % 256 \n",
                "    b = int(b) % 256 \n",
                "    ret.append(np.array([r,g,b])/255)  \n",
                "  return ret "
            ]
        },
        {
            "cell_type": "code",
            "execution_count": 7,
            "metadata": {},
            "outputs": [],
            "source": [
                "category = \"oven\"\n",
                "\n",
                "local_dataset = asdf_dataset.ASDFDataset(\n",
                "    [f\"examples/splits/sm_{category}_6_angle\"],\n",
                "    subsample_amount=1e12,  # Very big\n",
                "    load_ram=False,\n",
                "    train=True,\n",
                "    load_gt=True\n",
                ")\n",
                "\n",
                "all_categories = asdf_dataset.ASDFDataset(\n",
                "    [\n",
                "        \"examples/splits/sm_door_6_angle\", \"examples/splits/sm_laptop_6_angle\",\n",
                "        \"examples/splits/sm_oven_6_angle\", \"examples/splits/sm_stapler_6_angle\",\n",
                "        \"examples/splits/sm_washing_machine_6_angle\"\n",
                "    ],\n",
                "    subsample_amount=1e12,  # Very big\n",
                "    load_ram=False,\n",
                "    train=True\n",
                ")"
            ]
        },
        {
            "cell_type": "code",
            "execution_count": 8,
            "metadata": {},
            "outputs": [],
            "source": [
                "out_path= pathlib.Path(\"vis/asdf_testing_full_pc\") / category\n",
                "out_path.mkdir(exist_ok=True, parents=True)"
            ]
        },
        {
            "cell_type": "code",
            "execution_count": null,
            "metadata": {},
            "outputs": [],
            "source": [
                "all_pcds = []\n",
                "N = len(local_dataset) // 6\n",
                "colors = get_colors(N)\n",
                "\n",
                "# for idx in range(0, len(local_dataset), 6):\n",
                "for idx in range(0, 6, 1):\n",
                "    dp = local_dataset[idx]\n",
                "    pcd = o3d.geometry.PointCloud()\n",
                "    # pcd.points = o3d.utility.Vector3dVector(dp.points[dp.sdf_values.abs() < 1e-2])\n",
                "    pcd.points = o3d.utility.Vector3dVector(dp.full_pc[::3, :])\n",
                "    pcd.paint_uniform_color(colors[idx // 6])\n",
                "    print(dp.zero_joint_config)\n",
                "    o3d.io.write_point_cloud(str(out_path / f\"{idx}.ply\"), pcd)\n",
                "    print(pcd.get_min_bound())\n",
                "    print(pcd.get_max_bound())"
            ]
        },
        {
            "cell_type": "code",
            "execution_count": 10,
            "metadata": {},
            "outputs": [],
            "source": [
                "# o3d.visualization.draw_plotly(all_pcds)"
            ]
        },
        {
            "cell_type": "code",
            "execution_count": null,
            "metadata": {},
            "outputs": [],
            "source": []
        }
    ],
    "metadata": {
        "kernelspec": {
            "display_name": "Python 3.8.13",
            "language": "python",
            "name": "python3"
        },
        "language_info": {
            "codemirror_mode": {
                "name": "ipython",
                "version": 3
            },
            "file_extension": ".py",
            "mimetype": "text/x-python",
            "name": "python",
            "nbconvert_exporter": "python",
            "pygments_lexer": "ipython3",
            "version": "3.8.13"
        },
        "orig_nbformat": 4,
        "vscode": {
            "interpreter": {
                "hash": "d94be9d2cbc472181826ec82d481f764c09292b938a47daff0fd759a1975e02c"
            }
        }
    },
    "nbformat": 4,
    "nbformat_minor": 2
}
