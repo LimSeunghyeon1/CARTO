{
 "cells": [
  {
   "cell_type": "code",
   "execution_count": 1,
   "metadata": {},
   "outputs": [],
   "source": [
    "%load_ext autoreload\n",
    "%autoreload 2"
   ]
  },
  {
   "cell_type": "code",
   "execution_count": 2,
   "metadata": {},
   "outputs": [
    {
     "name": "stdout",
     "output_type": "stream",
     "text": [
      "Jupyter environment detected. Enabling Open3D WebVisualizer.\n",
      "[Open3D INFO] WebRTC GUI backend enabled.\n",
      "[Open3D INFO] WebRTCWindowSystem: HTTP handshake server disabled.\n"
     ]
    }
   ],
   "source": [
    "from CARTO.lib.real_data import RealDataset\n",
    "import pprint\n",
    "import copy\n",
    "import open3d as o3d\n",
    "import numpy as np\n",
    "import matplotlib.pyplot as plt"
   ]
  },
  {
   "cell_type": "code",
   "execution_count": 3,
   "metadata": {},
   "outputs": [],
   "source": [
    "load_pc = True\n",
    "real_dataset = RealDataset(\"datasets/real\", load_pc=load_pc)"
   ]
  },
  {
   "cell_type": "code",
   "execution_count": 4,
   "metadata": {},
   "outputs": [],
   "source": [
    "for sample_idx in range(len(real_dataset)):\n",
    "    if load_pc:\n",
    "        dp, labels, pointcloud = real_dataset[sample_idx]\n",
    "    else:\n",
    "        dp, labels = real_dataset[sample_idx]\n",
    "    break"
   ]
  },
  {
   "cell_type": "code",
   "execution_count": 5,
   "metadata": {},
   "outputs": [],
   "source": [
    "down_pcd = pointcloud.voxel_down_sample(voxel_size=0.02)"
   ]
  },
  {
   "cell_type": "code",
   "execution_count": 6,
   "metadata": {},
   "outputs": [
    {
     "name": "stdout",
     "output_type": "stream",
     "text": [
      "object_dict[\"center\"] = array([-0.00375343,  0.0190836 ,  0.55100996])\n",
      "object_dict[\"rotation\"] = array([[ 1.        ,  0.        ,  0.        ],\n",
      "       [ 0.        , -0.2923717 , -0.95630476],\n",
      "       [ 0.        ,  0.95630476, -0.2923717 ]])\n",
      "object_dict[\"extent\"] = array([0.33348947, 0.38      , 0.19401672])\n"
     ]
    }
   ],
   "source": [
    "object_obbs = []\n",
    "for object_dict in labels[\"objects\"]:\n",
    "    print(f'{object_dict[\"center\"] = }\\n{object_dict[\"rotation\"] = }\\n{object_dict[\"extent\"] = }')\n",
    "    object_obb = o3d.geometry.OrientedBoundingBox(\n",
    "        object_dict[\"center\"], object_dict[\"rotation\"], object_dict[\"extent\"]\n",
    "    )    \n",
    "    object_obbs.append(object_obb)"
   ]
  },
  {
   "cell_type": "code",
   "execution_count": 7,
   "metadata": {},
   "outputs": [],
   "source": [
    "# o3d.visualization.draw_plotly([downpcd] + object_obbs)\n",
    "# o3d.visualization.draw_plotly(object_obbs)"
   ]
  },
  {
   "attachments": {},
   "cell_type": "markdown",
   "metadata": {},
   "source": [
    "Run Local"
   ]
  },
  {
   "cell_type": "code",
   "execution_count": 8,
   "metadata": {},
   "outputs": [],
   "source": [
    "o3d.visualization.draw_geometries([down_pcd] + object_obbs)"
   ]
  }
 ],
 "metadata": {
  "kernelspec": {
   "display_name": "CARTO",
   "language": "python",
   "name": "python3"
  },
  "language_info": {
   "codemirror_mode": {
    "name": "ipython",
    "version": 3
   },
   "file_extension": ".py",
   "mimetype": "text/x-python",
   "name": "python",
   "nbconvert_exporter": "python",
   "pygments_lexer": "ipython3",
   "version": "3.8.17"
  },
  "orig_nbformat": 4
 },
 "nbformat": 4,
 "nbformat_minor": 2
}
