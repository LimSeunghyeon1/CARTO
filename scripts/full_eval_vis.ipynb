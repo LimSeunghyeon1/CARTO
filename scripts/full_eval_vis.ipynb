{
 "cells": [
  {
   "cell_type": "code",
   "execution_count": 1,
   "metadata": {},
   "outputs": [],
   "source": [
    "%load_ext autoreload\n",
    "%autoreload 2\n"
   ]
  },
  {
   "cell_type": "code",
   "execution_count": 2,
   "metadata": {},
   "outputs": [
    {
     "name": "stdout",
     "output_type": "stream",
     "text": [
      "Jupyter environment detected. Enabling Open3D WebVisualizer.\n",
      "[Open3D INFO] WebRTC GUI backend enabled.\n",
      "[Open3D INFO] WebRTCWindowSystem: HTTP handshake server disabled.\n"
     ]
    },
    {
     "name": "stderr",
     "output_type": "stream",
     "text": [
      "CRITICAL:root:No module named 'asdf'\n",
      "Traceback (most recent call last):\n",
      "  File \"/home/nickheppert/projects/CARTO/CARTO/Decoder/data/asdf_dataset.py\", line 19, in <module>\n",
      "    from asdf.data import SDFSamples\n",
      "ModuleNotFoundError: No module named 'asdf'\n"
     ]
    }
   ],
   "source": [
    "import numpy as np\n",
    "import pathlib\n",
    "from CARTO.lib import eval_utils\n",
    "import matplotlib.pyplot as plt\n",
    "import seaborn as sns\n",
    "\n",
    "sns.set()\n",
    "from CARTO import ROOT_DIR"
   ]
  },
  {
   "cell_type": "code",
   "execution_count": 3,
   "metadata": {},
   "outputs": [],
   "source": [
    "MODEL_ID = \"14i8yfym\"\n",
    "\n",
    "eval_path = ROOT_DIR / \"..\" / \"datasets\" / \"encoder\" / \"runs\"/ MODEL_ID/  \"eval\"\n",
    "\n",
    "eval_path_asdf_gt = eval_path / \"asdf_gt\"\n",
    "eval_path_asdf_no_gt = eval_path / \"asdf_no_gt\"\n",
    "eval_path_ours = eval_path / \"ours\"\n",
    "\n",
    "MAX_SAMPLES = 2000"
   ]
  },
  {
   "cell_type": "code",
   "execution_count": 4,
   "metadata": {},
   "outputs": [
    {
     "data": {
      "text/plain": [
       "PosixPath('/home/nickheppert/projects/CARTO/datasets/encoder/runs/14i8yfym/eval')"
      ]
     },
     "execution_count": 4,
     "metadata": {},
     "output_type": "execute_result"
    }
   ],
   "source": [
    "eval_path.resolve()"
   ]
  },
  {
   "cell_type": "code",
   "execution_count": 5,
   "metadata": {},
   "outputs": [],
   "source": [
    "def structured_to_dict(arr: np.ndarray):\n",
    "    if np.ndim(arr) == 0:\n",
    "        if arr.dtype.names == None:\n",
    "            return arr.item()\n",
    "        # accessing by int does *not* work when arr is a zero-dimensional array!\n",
    "        return {k: structured_to_dict(arr[k]) for k in arr.dtype.names}\n",
    "    return [structured_to_dict(v) for v in arr]"
   ]
  },
  {
   "cell_type": "code",
   "execution_count": 6,
   "metadata": {},
   "outputs": [],
   "source": [
    "def get_sorted_indices(path: pathlib.Path, max_samples=MAX_SAMPLES):\n",
    "    all_files = list(pathlib.Path(path / \"single_results\").glob(\"*.npz\"))\n",
    "    id_list = [int(file.stem) for file in all_files]\n",
    "    sorted_ids = np.argsort(id_list)\n",
    "    return sorted_ids[:max_samples], all_files"
   ]
  },
  {
   "cell_type": "code",
   "execution_count": 7,
   "metadata": {},
   "outputs": [
    {
     "name": "stdout",
     "output_type": "stream",
     "text": [
      "len(ours_all_files) = 64\n",
      "len(ours_asdf_no_gt) = 4\n",
      "len(ours_asdf_gt) = 2\n"
     ]
    }
   ],
   "source": [
    "ours_indices, ours_all_files = get_sorted_indices(eval_path_ours)\n",
    "asdf_no_gt_indices, ours_asdf_no_gt = get_sorted_indices(eval_path_asdf_no_gt)\n",
    "asdf_gt_indices, ours_asdf_gt  = get_sorted_indices(eval_path_asdf_gt)\n",
    "\n",
    "print(f\"{len(ours_all_files) = }\")\n",
    "print(f\"{len(ours_asdf_no_gt) = }\")\n",
    "print(f\"{len(ours_asdf_gt) = }\")"
   ]
  },
  {
   "cell_type": "code",
   "execution_count": 8,
   "metadata": {},
   "outputs": [
    {
     "name": "stdout",
     "output_type": "stream",
     "text": [
      "eval_path = PosixPath('/home/nickheppert/projects/CARTO/CARTO/../datasets/encoder/runs/14i8yfym/eval/ours')\n"
     ]
    }
   ],
   "source": [
    "# eval_path = eval_path_asdf_gt\n",
    "# eval_path = eval_path_asdf_no_gt\n",
    "eval_path = eval_path_ours\n",
    "print(f\"{eval_path = }\")\n",
    "indices, all_files = get_sorted_indices(eval_path)"
   ]
  },
  {
   "attachments": {},
   "cell_type": "markdown",
   "metadata": {},
   "source": [
    "# Pose and IoU"
   ]
  },
  {
   "cell_type": "code",
   "execution_count": 9,
   "metadata": {},
   "outputs": [],
   "source": [
    "all_results = []\n",
    "\n",
    "# for numpy_file in pathlib.Path(eval_path / \"single_results\").glob(\"*.npz\"):\n",
    "for i in indices:\n",
    "    numpy_file = all_files[i]\n",
    "    result = np.load(numpy_file, allow_pickle=True)[\"arr_0\"]\n",
    "    result = structured_to_dict(result)\n",
    "    all_results.append(result)\n"
   ]
  },
  {
   "cell_type": "code",
   "execution_count": 10,
   "metadata": {},
   "outputs": [
    {
     "name": "stdout",
     "output_type": "stream",
     "text": [
      "output_path /home/nickheppert/projects/CARTO/CARTO/../datasets/encoder/runs/14i8yfym/eval/ours\n"
     ]
    },
    {
     "name": "stderr",
     "output_type": "stream",
     "text": [
      "100%|██████████| 64/64 [00:01<00:00, 59.72it/s]\n",
      "/home/nickheppert/projects/CARTO/CARTO/lib/eval_utils.py:694: RuntimeWarning: invalid value encountered in long_scalars\n",
      "  acc = np.sum(pred_matches > -1) / len(pred_matches)\n"
     ]
    },
    {
     "name": "stdout",
     "output_type": "stream",
     "text": [
      "72 evaluated out of 64\n",
      "mAP:\n",
      "3D IoU at 25: 61.0\n",
      "3D IoU at 50: 41.7\n",
      "3D IoU at 75: 1.4\n",
      "10 degree, 10cm: 25.6\n",
      "10 degree, 20cm: 56.0\n",
      "10 degree, 30cm: 66.8\n",
      "20 degree, 10cm: 32.2\n",
      "20 degree, 20cm: 64.7\n",
      "20 degree, 30cm: 76.5\n",
      "Dishwasher\n",
      "3D IoU at 25: 58.3\n",
      "3D IoU at 50: 58.3\n",
      "3D IoU at 75: 3.1\n",
      "10 degree, 10cm: 36.0\n",
      "10 degree, 20cm: 100.0\n",
      "10 degree, 30cm: 100.0\n",
      "20 degree, 10cm: 36.0\n",
      "20 degree, 20cm: 100.0\n",
      "20 degree, 30cm: 100.0\n",
      "=========================================================================\n",
      "\n",
      "Knife\n",
      "3D IoU at 25: 0.0\n",
      "3D IoU at 50: 0.0\n",
      "3D IoU at 75: 0.0\n",
      "10 degree, 10cm: 0.0\n",
      "10 degree, 20cm: 0.0\n",
      "10 degree, 30cm: 0.0\n",
      "20 degree, 10cm: 0.0\n",
      "20 degree, 20cm: 0.0\n",
      "20 degree, 30cm: 0.0\n",
      "=========================================================================\n",
      "\n",
      "Laptop\n",
      "3D IoU at 25: 59.0\n",
      "3D IoU at 50: 44.5\n",
      "3D IoU at 75: 1.4\n",
      "10 degree, 10cm: 5.8\n",
      "10 degree, 20cm: 23.4\n",
      "10 degree, 30cm: 23.4\n",
      "20 degree, 10cm: 51.9\n",
      "20 degree, 20cm: 84.7\n",
      "20 degree, 30cm: 91.8\n",
      "=========================================================================\n",
      "\n",
      "Microwave\n",
      "3D IoU at 25: 63.3\n",
      "3D IoU at 50: 43.3\n",
      "3D IoU at 75: 0.0\n",
      "10 degree, 10cm: 37.5\n",
      "10 degree, 20cm: 68.8\n",
      "10 degree, 30cm: 68.8\n",
      "20 degree, 10cm: 37.5\n",
      "20 degree, 20cm: 68.8\n",
      "20 degree, 30cm: 68.8\n",
      "=========================================================================\n",
      "\n",
      "Oven\n",
      "3D IoU at 25: 33.3\n",
      "3D IoU at 50: 20.0\n",
      "3D IoU at 75: 0.0\n",
      "10 degree, 10cm: 4.0\n",
      "10 degree, 20cm: 4.0\n",
      "10 degree, 30cm: 18.0\n",
      "20 degree, 10cm: 4.0\n",
      "20 degree, 20cm: 4.0\n",
      "20 degree, 30cm: 18.0\n",
      "=========================================================================\n",
      "\n",
      "Refrigerator\n",
      "3D IoU at 25: 43.5\n",
      "3D IoU at 50: 17.0\n",
      "3D IoU at 75: 0.0\n",
      "10 degree, 10cm: 48.8\n",
      "10 degree, 20cm: 81.6\n",
      "10 degree, 30cm: 81.6\n",
      "20 degree, 10cm: 48.8\n",
      "20 degree, 20cm: 81.6\n",
      "20 degree, 30cm: 81.6\n",
      "=========================================================================\n",
      "\n",
      "Stapler\n",
      "3D IoU at 25: 0.0\n",
      "3D IoU at 50: 0.0\n",
      "3D IoU at 75: 0.0\n",
      "10 degree, 10cm: 0.0\n",
      "10 degree, 20cm: 0.0\n",
      "10 degree, 30cm: 0.0\n",
      "20 degree, 10cm: 0.0\n",
      "20 degree, 20cm: 0.0\n",
      "20 degree, 30cm: 0.0\n",
      "=========================================================================\n",
      "\n",
      "StorageFurniture\n",
      "3D IoU at 25: 0.0\n",
      "3D IoU at 50: 0.0\n",
      "3D IoU at 75: 0.0\n",
      "10 degree, 10cm: 0.0\n",
      "10 degree, 20cm: 0.0\n",
      "10 degree, 30cm: 0.0\n",
      "20 degree, 10cm: 0.0\n",
      "20 degree, 20cm: 0.0\n",
      "20 degree, 30cm: 0.0\n",
      "=========================================================================\n",
      "\n",
      "Table\n",
      "3D IoU at 25: 90.5\n",
      "3D IoU at 50: 60.0\n",
      "3D IoU at 75: 0.0\n",
      "10 degree, 10cm: 0.0\n",
      "10 degree, 20cm: 44.4\n",
      "10 degree, 30cm: 100.0\n",
      "20 degree, 10cm: 0.0\n",
      "20 degree, 20cm: 44.4\n",
      "20 degree, 30cm: 100.0\n",
      "=========================================================================\n",
      "\n",
      "WashingMachine\n",
      "3D IoU at 25: 78.8\n",
      "3D IoU at 50: 48.8\n",
      "3D IoU at 75: 5.1\n",
      "10 degree, 10cm: 47.1\n",
      "10 degree, 20cm: 69.6\n",
      "10 degree, 30cm: 75.6\n",
      "20 degree, 10cm: 47.1\n",
      "20 degree, 20cm: 69.6\n",
      "20 degree, 30cm: 75.6\n",
      "=========================================================================\n",
      "\n",
      "mean\n",
      "3D IoU at 25: 61.0\n",
      "3D IoU at 50: 41.7\n",
      "3D IoU at 75: 1.4\n",
      "10 degree, 10cm: 25.6\n",
      "10 degree, 20cm: 56.0\n",
      "10 degree, 30cm: 66.8\n",
      "20 degree, 10cm: 32.2\n",
      "20 degree, 20cm: 64.7\n",
      "20 degree, 30cm: 76.5\n",
      "=========================================================================\n",
      "\n",
      "Acc:\n",
      "3D IoU at 25: 77.4\n",
      "3D IoU at 50: 56.6\n",
      "3D IoU at 75: 7.1\n",
      "10 degree, 10cm: 38.4\n",
      "10 degree, 20cm: 67.2\n",
      "10 degree, 30cm: 66.8\n",
      "20 degree, 10cm: 44.5\n",
      "20 degree, 20cm: 73.3\n",
      "20 degree, 30cm: 76.5\n"
     ]
    }
   ],
   "source": [
    "eval_utils.compute_and_plot_mAP(eval_path, all_results, nocs_results=None)"
   ]
  },
  {
   "attachments": {},
   "cell_type": "markdown",
   "metadata": {},
   "source": [
    "# Chamfer and Joint States"
   ]
  },
  {
   "cell_type": "code",
   "execution_count": 11,
   "metadata": {},
   "outputs": [],
   "source": [
    "mean_cats, all_cats = eval_utils.get_categories_for_mean(return_all=True)\n",
    "mean_cats.append(-1)"
   ]
  },
  {
   "cell_type": "code",
   "execution_count": 12,
   "metadata": {},
   "outputs": [],
   "source": [
    "# Should have the same length\n",
    "all_chamfers = []\n",
    "all_joint_states = []\n",
    "all_joint_types = []\n",
    "all_gt_class_ids = []\n",
    "# Total GT detections\n",
    "count_detections_gt = 0\n",
    "count_detections_pred = 0\n",
    "\n",
    "for result in all_results:\n",
    "    all_chamfers.extend(result[\"chamfer_results\"])\n",
    "    all_joint_states.extend(result[\"joint_state_results\"])\n",
    "    all_joint_types.extend(result[\"joint_type_results\"])\n",
    "    all_gt_class_ids.extend(result[\"chamfer_gt_class_ids\"])\n",
    "    count_detections_pred +=  len(result[\"chamfer_gt_class_ids\"])\n",
    "    count_detections_gt += len(result[\"chamfer_gt_class_ids\"]) + result[\"misdetections\"]"
   ]
  },
  {
   "cell_type": "code",
   "execution_count": 13,
   "metadata": {},
   "outputs": [],
   "source": [
    "def compute_full_ap_and_acc(vals, start, end, steps):\n",
    "    all_apcs = np.zeros((len(all_cats) + 1, steps))\n",
    "    all_accs = np.zeros((len(all_cats) + 1, steps))\n",
    "    thresholds = np.linspace(start, end, steps)\n",
    "    for i, threshold in enumerate(thresholds):\n",
    "        for class_id in mean_cats:\n",
    "            if class_id != -1:\n",
    "                class_idx = np.array(all_gt_class_ids) == class_id # For each class\n",
    "            else:\n",
    "                class_idx = np.ones_like(all_gt_class_ids, dtype=bool) # For all classes\n",
    "\n",
    "            matches = np.ones((count_detections_pred))\n",
    "\n",
    "            if vals.ndim > 1:\n",
    "                vals = vals.flatten()\n",
    "            matches[vals > threshold] = -1\n",
    "\n",
    "            # print(chamfer_matches[class_idx])\n",
    "            ap, acc = eval_utils.compute_ap_and_acc(\n",
    "                matches[class_idx], vals[class_idx], np.ones((count_detections_pred))[class_idx]\n",
    "            )\n",
    "        #   print(f\"{chamfer_threshold} {ap} {acc}\")\n",
    "\n",
    "            all_apcs[class_id, i] = ap\n",
    "            all_accs[class_id, i] = acc\n",
    "    return all_apcs, all_accs, thresholds"
   ]
  },
  {
   "cell_type": "code",
   "execution_count": 14,
   "metadata": {},
   "outputs": [],
   "source": [
    "resolution = 1001\n",
    "chamfer_apcs, chamfer_accs, chamfer_thresholds = compute_full_ap_and_acc(\n",
    "    np.array(all_chamfers) * 1000, 0, 10, resolution\n",
    ")\n",
    "(\n",
    "    joint_state_apcs,\n",
    "    joint_state_accs,\n",
    "    joint_state_thresholds,\n",
    ") = compute_full_ap_and_acc(\n",
    "    np.array(all_joint_states)[:, 0], 0, 0.5, resolution\n",
    ")"
   ]
  },
  {
   "cell_type": "code",
   "execution_count": 15,
   "metadata": {},
   "outputs": [
    {
     "data": {
      "image/png": "[encoded data removed]",
      "text/plain": [
       "<Figure size 850x350 with 3 Axes>"
      ]
     },
     "metadata": {},
     "output_type": "display_data"
    }
   ],
   "source": [
    "labels = [\n",
    "    \"Dishwasher\", \"Laptop\", \"Microwave\", \"Oven\", \"Refrigerator\", \"Table\", \"WashingMachine\", \"mean\"\n",
    "]\n",
    "\n",
    "# print(f\"{mean_categories = }\")\n",
    "#  [1, 3, 4, 5, 6, 9, 10] # 0 is background\n",
    "\n",
    "# labels = ['bottle', 'bowl', 'camera', 'can', 'laptop', 'mug', 'mean', 'nocs']\n",
    "\n",
    "# labels = ['bottle', 'bowl', 'camera', 'can', 'laptop', 'mug', 'mean', 'nocs']\n",
    "# colors = [\n",
    "#     'tab:blue', 'tab:orange', 'tab:green', 'tab:pink', 'tab:olive', 'tab:purple', 'tab:red',\n",
    "#     'tab:gray'\n",
    "# ]\n",
    "colors = sns.color_palette(\"tab10\")\n",
    "styles = ['-'] * (len(mean_cats) - 1) + [\"--\"]\n",
    "\n",
    "fig, (ax_chamfer, ax_joint) = plt.subplots(1, 2, figsize=(8.5, 3.5))\n",
    "\n",
    "ax_chamfer.set_title('Reconstruction', fontsize=10)\n",
    "ax_chamfer.set_ylabel('Accuracy')\n",
    "ax_chamfer.set_ylim(0, 100)\n",
    "ax_chamfer.set_xlabel('Chamfer Distance')\n",
    "ax_chamfer.set_xlim(0, 10)\n",
    "ax_chamfer.xaxis.set_ticks([0, 2., 4., 6., 8., 10])\n",
    "# ax_chamfer.yaxis.set_ticklabels([\"0%\", \"20%\", \"40%\", \"60%\", \"80%\", \"100%\"])\n",
    "# ax_chamfer.grid()\n",
    "\n",
    "ax_joint.set_title('Joint State Error', fontsize=10)\n",
    "# ax_joint.set_ylabel('Average Precision')\n",
    "ax_joint.set_ylim(0, 100)\n",
    "ax_joint.yaxis.set_ticklabels([])\n",
    "# ax_joint.set_xlabel('Joint State')\n",
    "ax_joint.set_xlim(0, 0.5)\n",
    "ticks_rad = np.array([\n",
    "    0, 0.523599 / 6, 0.523599 * 2 / 6, 0.523599 * 3 / 6, 0.523599 * 4 / 6, 0.523599 * 5 / 6,\n",
    "    0.523599\n",
    "])\n",
    "ticks_deg = (ticks_rad * 180 / np.pi).astype(int)\n",
    "ax_joint.xaxis.set_ticks(ticks_rad)\n",
    "ax_joint.xaxis.set_ticklabels([f\"{tick}$\\degree$\" for tick in ticks_deg])\n",
    "ax_joint.tick_params(axis=u'both', which=u'both',length=0)\n",
    "\n",
    "# ax_joint.grid()\n",
    "\n",
    "# secx = ax_joint.secondary_xaxis('bottom')\n",
    "ax2 = ax_joint.twiny()\n",
    "ax2.xaxis.set_ticks_position('bottom')  # set the position of the second x-axis to bottom\n",
    "ax2.xaxis.set_label_position('bottom')  # set the position of the second x-axis to bottom\n",
    "ax2.spines['bottom'].set_position(('outward', 20))\n",
    "# ticks_m = np.array([0., 0.15, 0.3, 0.5])\n",
    "ticks_m = ticks_rad\n",
    "ticks_cm = (ticks_m * 100).astype(int)[::2]\n",
    "ax2.xaxis.set_ticks(ticks_m[::2])\n",
    "ax2.xaxis.set_ticklabels([f\"{tick}cm\" for tick in ticks_cm])\n",
    "ax2.set_xlabel(\"Joint State Error\")\n",
    "ax2.set_xlim(ax_joint.get_xlim())\n",
    "ax2.tick_params(axis=u'both', which=u'both',length=0)\n",
    "ax2.grid(visible=False)\n",
    "\n",
    "### Chamfer\n",
    "for i in range(len(mean_cats)):\n",
    "  class_id = mean_cats[i]\n",
    "\n",
    "  ax_chamfer.plot(\n",
    "      chamfer_thresholds,\n",
    "      100 * chamfer_apcs[class_id, :],\n",
    "      color=colors[i],\n",
    "      linestyle=styles[i],\n",
    "      label=labels[i]\n",
    "  )\n",
    "\n",
    "  ax_joint.plot(\n",
    "      joint_state_thresholds,\n",
    "      100 * joint_state_apcs[class_id, :],\n",
    "      color=colors[i],\n",
    "      linestyle=styles[i],\n",
    "      label=labels[i]\n",
    "  )\n",
    "\n",
    "ax_joint.legend(bbox_to_anchor=(1.04, 1.0))\n",
    "fig.tight_layout()\n",
    "fig.savefig(eval_path / \"mAP_chamfer_joint.png\")\n",
    "fig.savefig(eval_path / \"mAP_chamfer_joint.pdf\")\n"
   ]
  },
  {
   "cell_type": "code",
   "execution_count": null,
   "metadata": {},
   "outputs": [],
   "source": []
  }
 ],
 "metadata": {
  "kernelspec": {
   "display_name": "CARTO",
   "language": "python",
   "name": "python3"
  },
  "language_info": {
   "codemirror_mode": {
    "name": "ipython",
    "version": 3
   },
   "file_extension": ".py",
   "mimetype": "text/x-python",
   "name": "python",
   "nbconvert_exporter": "python",
   "pygments_lexer": "ipython3",
   "version": "3.8.17"
  },
  "orig_nbformat": 4
 },
 "nbformat": 4,
 "nbformat_minor": 2
}
